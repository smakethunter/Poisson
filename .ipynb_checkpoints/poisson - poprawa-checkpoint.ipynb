{
 "cells": [
  {
   "cell_type": "markdown",
   "metadata": {},
   "source": [
    "## Statystyka i procesy stochastyczne, Ćw. proj., grupa 4 \n",
    "\n",
    "\n",
    "* Wojciech Pełka\n",
    "* Konrad Stalmach\n",
    "* Filip Stolarczyk\n",
    "* Hubert Sujka\n"
   ]
  },
  {
   "cell_type": "markdown",
   "metadata": {},
   "source": [
    "## Wstęp\n",
    "Celem naszej pracy było zbadanie rozkładu liczby zgłoszeń do dowolnego serwera w ciągu minuty, narysowanie dystrybuanty empirycznej oraz sprawdzenie czy jest to proces Poissona.\n",
    "\n",
    "Proces Poissona to rodzina (będąca procesem stochastycznym, zliczeniowym) $ ( N_{t} ,\\;t\\geq 0) $ zdefiniowana w następujący sposób:\n",
    "\n",
    "$ N_{t}={\\begin{cases}0,&X_{1}>t\\\\\\sup\\{n:X_{1}+\\dots +X_{n}\\leq t\\},&X_{1}\\leq t\\end{cases}}. $\n",
    "\n",
    "Gdzie ciąg ${\\displaystyle (X_{i})_{i=1,2,3...}}$ jest ciągiem niezależnych zmiennych losowych o rozkładzie wykładniczym z jednakowym dla każdej ze zmiennych parametrem ${\\displaystyle \\lambda .}$\n",
    "\n",
    "Zmienna ${\\displaystyle X_{i}}$ oznacza czas pomiędzy (i-1)-szym a i-tym zdarzeniem (tradycyjnie nazywanym zgłoszeniem), a ${\\displaystyle N_{t}}$ to liczba zgłoszeń, które wystąpiły do chwili t.\n",
    "\n",
    "## Przebieg zadania\n",
    "\n",
    "By zrealizować zadanie musieliśmy skonstruować funkcje przygotowujące dane do analizy. W celach analizy skorzystaliśmy ze zbioru danych z serwera Apache. Następnie narysowaliśmy wykresy dla danego przypadku, a na koniec dopasowaliśmy parametry do krzywej opisanej rozkładem Poissona.\n",
    "\n",
    "Projekt zdecydowaliśmy się wykonać w aplikacji Jupyter Notebook w języku Python, ze względu na szeroki wybór bibliotek, które w prosty sposób pozwoliły zautomatyzować proces analizy."
   ]
  },
  {
   "cell_type": "markdown",
   "metadata": {},
   "source": [
    "## Predefiniowane funkcje przygotowujace dane do analizy:\n",
    "\n",
    "Importujemy potrzebne biblioteki i zapobiegamy wyświetlaniu niepotrzebnych błędów"
   ]
  },
  {
   "cell_type": "code",
   "execution_count": 1,
   "metadata": {},
   "outputs": [],
   "source": [
    "import pandas as pd\n",
    "import numpy as np\n",
    "import re\n",
    "import matplotlib.pyplot as plt\n",
    "from IPython.core.display import display\n",
    "from scipy.optimize import curve_fit\n",
    "from scipy.special import factorial\n",
    "import sys\n",
    "\n",
    "if not sys.warnoptions:\n",
    "    import warnings\n",
    "    warnings.simplefilter(\"ignore\")"
   ]
  },
  {
   "cell_type": "markdown",
   "metadata": {
    "pycharm": {
     "name": "#%% md\n"
    }
   },
   "source": [
    "Definujemy funkcje wyciagające przetwarzające łańcuchy znaków niezbędne do utworzenia interesujących nas kolumn:"
   ]
  },
  {
   "cell_type": "code",
   "execution_count": 2,
   "metadata": {
    "pycharm": {
     "name": "#%%\n"
    }
   },
   "outputs": [],
   "source": [
    "#funkcje pomocnicze\n",
    "def take_n_split(string,delimiter,pos):\n",
    "    s=string.split(delimiter)\n",
    "    \n",
    "    number=list(s[pos])\n",
    "    \n",
    "    if number[0]=='0':\n",
    "        return int(number[1])\n",
    "    else:\n",
    "        return int(number[0]+number[1])\n",
    "def select_minute(data,minute):\n",
    "    return data.loc[data['Minutes'] == minute]\n",
    "def select_hour(data,hour):\n",
    "    return data.loc[data['Hours'] == hour]"
   ]
  },
  {
   "cell_type": "markdown",
   "metadata": {
    "pycharm": {
     "name": "#%% md\n"
    }
   },
   "source": [
    "Tworzymy funkcję filtrującą dane. Wybieramy tylko takie minuty, w których liczba logów jest wieksza od 10,\n",
    "aby można było łatwiej i dokładniej dopasować parametry rozkładu. Przy zbyt małej ilosci danych moga pojawić się problemy operacji w realizowanej przez funkcję:\n",
    "curve_fit  z biblioteki scipy.optimize której uzywamy do dopasowania krzywej rozkładu.\n"
   ]
  },
  {
   "cell_type": "code",
   "execution_count": 3,
   "metadata": {
    "pycharm": {
     "name": "#%%\n"
    }
   },
   "outputs": [],
   "source": [
    "def select_time_data(data,hour,minute):\n",
    "    new_data=data\n",
    "\n",
    "    new_data['in_minute']=new_data['Minutes'].apply(lambda x: x==minute)\n",
    "    new_data['in_hour']=new_data['Hours'].apply(lambda x: x==hour)\n",
    "    \n",
    "   \n",
    "    \n",
    "    new_data=new_data.loc[(new_data['in_minute'] == True) & (new_data['in_hour']==True)] \n",
    "    data_out=pd.DataFrame({'Hours':new_data['Hours'], 'Minutes':new_data['Minutes'],'Seconds':new_data['Seconds']})\n",
    "    \n",
    "    \n",
    "    \n",
    "    return data_out, len(data_out)\n"
   ]
  },
  {
   "cell_type": "code",
   "execution_count": 4,
   "metadata": {
    "pycharm": {
     "name": "#%%\n"
    }
   },
   "outputs": [],
   "source": [
    "def time_no_empty(df):\n",
    "    df['Minutes']=df['Time'].apply(lambda x: take_n_split(x,':',2))\n",
    "    df['Seconds']=df['Time'].apply(lambda x: take_n_split(x,':',3))\n",
    "    df['Hours']=df['Time'].apply(lambda x: take_n_split(x,':',1))\n",
    "    df[\"Enough\"]=pd.Series([False]*len(df))\n",
    "    \n",
    "    for h in range(24):\n",
    "        dfh=df.loc[df[\"Hours\"]==h]\n",
    "        for min in range(1,60):\n",
    "            nr_events_per_minute=len(dfh.loc[(df['Minutes']==min) & (dfh['Hours']==h)])\n",
    "            if nr_events_per_minute>10:\n",
    "                for i in df.loc[(df['Minutes']==min) & (df['Hours']==h)].index:\n",
    "                    df.at[i,\"Enough\"]=True\n",
    "                \n",
    "               \n",
    "    df=df.loc[df['Enough']==True]\n",
    "    \n",
    "    data=pd.DataFrame({'Hours':df['Hours'],'Minutes':df['Minutes'],'Seconds':df['Seconds']})\n",
    "    \n",
    "    return data\n"
   ]
  },
  {
   "cell_type": "markdown",
   "metadata": {},
   "source": [
    "Stwórzmy funkcję, która zwraca dane dla zadanej daty, oraz liczbę rekordów. "
   ]
  },
  {
   "cell_type": "markdown",
   "metadata": {
    "pycharm": {
     "is_executing": false,
     "name": "#%% md\n"
    }
   },
   "source": [
    "Ze zbioru danych z serwera Apache wybrano te minuty w których liczba logów jest większa od 10.\n",
    "\n",
    "Takich przypadków były 2.\n",
    "    \n"
   ]
  },
  {
   "cell_type": "markdown",
   "metadata": {},
   "source": [
    "## Dla każdego z przypadków narysowano odpowiednie wykresy :\n",
    "1. Liczba logów na sekundę\n",
    "2. Prawdopodobieństwo wystapienia logu w danej sekundzie\n",
    "3. Dystrybuanta Empiryczna rozkładu prawdopodobieństwa\n",
    "\n",
    "## Następnie dokonano próby dopasowania parametrów rozkładu do parametrów krzywej opisanej rozkładem Poissona danego wzorem: \n",
    "$${P\\left( x \\right) = \\frac{{e^{ - \\lambda } \\lambda ^x }}{{x!}}}$$"
   ]
  },
  {
   "cell_type": "code",
   "execution_count": 5,
   "metadata": {
    "scrolled": false
   },
   "outputs": [
    {
     "name": "stdout",
     "output_type": "stream",
     "text": [
      "Wyniki dla godziny 13:38\n",
      "\n",
      "Tabela czasowa:\n"
     ]
    },
    {
     "data": {
      "text/html": [
       "<div>\n",
       "<style scoped>\n",
       "    .dataframe tbody tr th:only-of-type {\n",
       "        vertical-align: middle;\n",
       "    }\n",
       "\n",
       "    .dataframe tbody tr th {\n",
       "        vertical-align: top;\n",
       "    }\n",
       "\n",
       "    .dataframe thead th {\n",
       "        text-align: right;\n",
       "    }\n",
       "</style>\n",
       "<table border=\"1\" class=\"dataframe\">\n",
       "  <thead>\n",
       "    <tr style=\"text-align: right;\">\n",
       "      <th></th>\n",
       "      <th>Hours</th>\n",
       "      <th>Minutes</th>\n",
       "      <th>Seconds</th>\n",
       "    </tr>\n",
       "  </thead>\n",
       "  <tbody>\n",
       "    <tr>\n",
       "      <th>15</th>\n",
       "      <td>13</td>\n",
       "      <td>38</td>\n",
       "      <td>3</td>\n",
       "    </tr>\n",
       "    <tr>\n",
       "      <th>16</th>\n",
       "      <td>13</td>\n",
       "      <td>38</td>\n",
       "      <td>4</td>\n",
       "    </tr>\n",
       "    <tr>\n",
       "      <th>17</th>\n",
       "      <td>13</td>\n",
       "      <td>38</td>\n",
       "      <td>7</td>\n",
       "    </tr>\n",
       "    <tr>\n",
       "      <th>18</th>\n",
       "      <td>13</td>\n",
       "      <td>38</td>\n",
       "      <td>19</td>\n",
       "    </tr>\n",
       "    <tr>\n",
       "      <th>19</th>\n",
       "      <td>13</td>\n",
       "      <td>38</td>\n",
       "      <td>20</td>\n",
       "    </tr>\n",
       "    <tr>\n",
       "      <th>20</th>\n",
       "      <td>13</td>\n",
       "      <td>38</td>\n",
       "      <td>20</td>\n",
       "    </tr>\n",
       "    <tr>\n",
       "      <th>21</th>\n",
       "      <td>13</td>\n",
       "      <td>38</td>\n",
       "      <td>20</td>\n",
       "    </tr>\n",
       "    <tr>\n",
       "      <th>22</th>\n",
       "      <td>13</td>\n",
       "      <td>38</td>\n",
       "      <td>20</td>\n",
       "    </tr>\n",
       "    <tr>\n",
       "      <th>23</th>\n",
       "      <td>13</td>\n",
       "      <td>38</td>\n",
       "      <td>20</td>\n",
       "    </tr>\n",
       "    <tr>\n",
       "      <th>24</th>\n",
       "      <td>13</td>\n",
       "      <td>38</td>\n",
       "      <td>20</td>\n",
       "    </tr>\n",
       "    <tr>\n",
       "      <th>25</th>\n",
       "      <td>13</td>\n",
       "      <td>38</td>\n",
       "      <td>20</td>\n",
       "    </tr>\n",
       "    <tr>\n",
       "      <th>26</th>\n",
       "      <td>13</td>\n",
       "      <td>38</td>\n",
       "      <td>21</td>\n",
       "    </tr>\n",
       "    <tr>\n",
       "      <th>27</th>\n",
       "      <td>13</td>\n",
       "      <td>38</td>\n",
       "      <td>21</td>\n",
       "    </tr>\n",
       "    <tr>\n",
       "      <th>28</th>\n",
       "      <td>13</td>\n",
       "      <td>38</td>\n",
       "      <td>23</td>\n",
       "    </tr>\n",
       "  </tbody>\n",
       "</table>\n",
       "</div>"
      ],
      "text/plain": [
       "    Hours  Minutes  Seconds\n",
       "15     13       38        3\n",
       "16     13       38        4\n",
       "17     13       38        7\n",
       "18     13       38       19\n",
       "19     13       38       20\n",
       "20     13       38       20\n",
       "21     13       38       20\n",
       "22     13       38       20\n",
       "23     13       38       20\n",
       "24     13       38       20\n",
       "25     13       38       20\n",
       "26     13       38       21\n",
       "27     13       38       21\n",
       "28     13       38       23"
      ]
     },
     "metadata": {},
     "output_type": "display_data"
    },
    {
     "data": {
      "image/png": "[encoded data removed]",
      "text/plain": [
       "<Figure size 432x288 with 1 Axes>"
      ]
     },
     "metadata": {
      "needs_background": "light"
     },
     "output_type": "display_data"
    },
    {
     "data": {
      "image/png": "[encoded data removed]",
      "text/plain": [
       "<Figure size 432x288 with 1 Axes>"
      ]
     },
     "metadata": {
      "needs_background": "light"
     },
     "output_type": "display_data"
    },
    {
     "data": {
      "image/png": "[encoded data removed]",
      "text/plain": [
       "<Figure size 432x288 with 1 Axes>"
      ]
     },
     "metadata": {
      "needs_background": "light"
     },
     "output_type": "display_data"
    },
    {
     "data": {
      "image/png": "[encoded data removed]",
      "text/plain": [
       "<Figure size 432x288 with 1 Axes>"
      ]
     },
     "metadata": {
      "needs_background": "light"
     },
     "output_type": "display_data"
    },
    {
     "name": "stdout",
     "output_type": "stream",
     "text": [
      "Wyniki dla godziny 14:33\n",
      "\n",
      "Tabela czasowa:\n"
     ]
    },
    {
     "data": {
      "text/html": [
       "<div>\n",
       "<style scoped>\n",
       "    .dataframe tbody tr th:only-of-type {\n",
       "        vertical-align: middle;\n",
       "    }\n",
       "\n",
       "    .dataframe tbody tr th {\n",
       "        vertical-align: top;\n",
       "    }\n",
       "\n",
       "    .dataframe thead th {\n",
       "        text-align: right;\n",
       "    }\n",
       "</style>\n",
       "<table border=\"1\" class=\"dataframe\">\n",
       "  <thead>\n",
       "    <tr style=\"text-align: right;\">\n",
       "      <th></th>\n",
       "      <th>Hours</th>\n",
       "      <th>Minutes</th>\n",
       "      <th>Seconds</th>\n",
       "    </tr>\n",
       "  </thead>\n",
       "  <tbody>\n",
       "    <tr>\n",
       "      <th>63</th>\n",
       "      <td>14</td>\n",
       "      <td>33</td>\n",
       "      <td>21</td>\n",
       "    </tr>\n",
       "    <tr>\n",
       "      <th>64</th>\n",
       "      <td>14</td>\n",
       "      <td>33</td>\n",
       "      <td>22</td>\n",
       "    </tr>\n",
       "    <tr>\n",
       "      <th>65</th>\n",
       "      <td>14</td>\n",
       "      <td>33</td>\n",
       "      <td>22</td>\n",
       "    </tr>\n",
       "    <tr>\n",
       "      <th>66</th>\n",
       "      <td>14</td>\n",
       "      <td>33</td>\n",
       "      <td>22</td>\n",
       "    </tr>\n",
       "    <tr>\n",
       "      <th>67</th>\n",
       "      <td>14</td>\n",
       "      <td>33</td>\n",
       "      <td>22</td>\n",
       "    </tr>\n",
       "    <tr>\n",
       "      <th>68</th>\n",
       "      <td>14</td>\n",
       "      <td>33</td>\n",
       "      <td>22</td>\n",
       "    </tr>\n",
       "    <tr>\n",
       "      <th>69</th>\n",
       "      <td>14</td>\n",
       "      <td>33</td>\n",
       "      <td>23</td>\n",
       "    </tr>\n",
       "    <tr>\n",
       "      <th>70</th>\n",
       "      <td>14</td>\n",
       "      <td>33</td>\n",
       "      <td>23</td>\n",
       "    </tr>\n",
       "    <tr>\n",
       "      <th>71</th>\n",
       "      <td>14</td>\n",
       "      <td>33</td>\n",
       "      <td>23</td>\n",
       "    </tr>\n",
       "    <tr>\n",
       "      <th>72</th>\n",
       "      <td>14</td>\n",
       "      <td>33</td>\n",
       "      <td>23</td>\n",
       "    </tr>\n",
       "    <tr>\n",
       "      <th>73</th>\n",
       "      <td>14</td>\n",
       "      <td>33</td>\n",
       "      <td>26</td>\n",
       "    </tr>\n",
       "  </tbody>\n",
       "</table>\n",
       "</div>"
      ],
      "text/plain": [
       "    Hours  Minutes  Seconds\n",
       "63     14       33       21\n",
       "64     14       33       22\n",
       "65     14       33       22\n",
       "66     14       33       22\n",
       "67     14       33       22\n",
       "68     14       33       22\n",
       "69     14       33       23\n",
       "70     14       33       23\n",
       "71     14       33       23\n",
       "72     14       33       23\n",
       "73     14       33       26"
      ]
     },
     "metadata": {},
     "output_type": "display_data"
    },
    {
     "data": {
      "image/png": "[encoded data removed]",
      "text/plain": [
       "<Figure size 432x288 with 1 Axes>"
      ]
     },
     "metadata": {
      "needs_background": "light"
     },
     "output_type": "display_data"
    },
    {
     "data": {
      "image/png": "[encoded data removed]",
      "text/plain": [
       "<Figure size 432x288 with 1 Axes>"
      ]
     },
     "metadata": {
      "needs_background": "light"
     },
     "output_type": "display_data"
    },
    {
     "data": {
      "image/png": "[encoded data removed]",
      "text/plain": [
       "<Figure size 432x288 with 1 Axes>"
      ]
     },
     "metadata": {
      "needs_background": "light"
     },
     "output_type": "display_data"
    },
    {
     "data": {
      "image/png": "[encoded data removed]",
      "text/plain": [
       "<Figure size 432x288 with 1 Axes>"
      ]
     },
     "metadata": {
      "needs_background": "light"
     },
     "output_type": "display_data"
    }
   ],
   "source": [
    "\n",
    "data=time_no_empty(pd.read_csv('weblog.csv').head(100))\n",
    "hours=set(data['Hours'])\n",
    "for hour in hours:\n",
    "    minutes=set(data.loc[data['Hours']==hour]['Minutes'])\n",
    "    for minute in minutes:\n",
    "        \n",
    "        selected_minute_data,nr_events=select_time_data(data,hour,minute)\n",
    "        \n",
    "        logs_per_second=[]\n",
    "        for i in range (60):\n",
    "            in_minute=selected_minute_data.apply(lambda x: x['Seconds']==i,axis=1)\n",
    "            n_logs=len(in_minute[in_minute==True].index)\n",
    "            logs_per_second.append([i,n_logs])\n",
    "            \n",
    "        print(f\"Wyniki dla godziny {hour}:{minute}\")\n",
    "        print(\"\")\n",
    "        print(\"Tabela czasowa:\")\n",
    "        \n",
    "        display(selected_minute_data)\n",
    "        ax=plt.figure()\n",
    "        plt.scatter(np.array(logs_per_second)[:,0],np.array(logs_per_second)[:,1])\n",
    "        plt.plot(np.array(logs_per_second)[:,0],np.array(logs_per_second)[:,1])\n",
    "        plt.title(\"Ilość zgłoszeń na sekundę w ciągu minuty\")\n",
    "        plt.show()\n",
    "        \n",
    "      \n",
    "        \n",
    "        #%%\n",
    "        \n",
    "        lps=np.array(logs_per_second)\n",
    "        prob_lps=[i/len(lps) for i in lps[:,1]]\n",
    "        \n",
    "        fig=plt.figure()\n",
    "        plt.scatter(lps[:,0],prob_lps)\n",
    "        plt.title(\"Prawdopodobieństwo zgłoszenia w danej sekundzie\")\n",
    "        plt.show()\n",
    "        \n",
    "        \n",
    "        #%%\n",
    "        \n",
    "        # dystrybuanta\n",
    "        distribution=[]\n",
    "        dist2=[0]\n",
    "        distribution.append(logs_per_second[0])\n",
    "        for i in range(1,len(logs_per_second)):\n",
    "        \n",
    "            distribution.append([i,distribution[i-1][1]+logs_per_second[i][1]/nr_events])\n",
    "            dist2.append(distribution[i-1][1])\n",
    "        ax2=plt.figure()\n",
    "        dist=np.array(distribution)\n",
    "        #plt.plot(dist[:,0],dist[:,1])\n",
    "        plt.scatter(dist[:,0],dist[:,1])\n",
    "        d=np.array(dist2)\n",
    "        \n",
    "        plt.plot(dist[:,0],d,'bo',mfc='none')\n",
    "        plt.title(\"Dystrybuanta empiryczna\")\n",
    "        plt.show()\n",
    "        \n",
    "        \n",
    "        #%%\n",
    "        \n",
    "        def poisson(k, lamb):\n",
    "            return (lamb ** k / factorial(k)) * np.exp(-lamb)\n",
    "        \n",
    "        \n",
    "        # fit with curve_fit\n",
    "        \n",
    "        try:       \n",
    "        \n",
    "            parameters, cov_matrix = curve_fit(poisson, lps[:, 0], prob_lps)\n",
    "        \n",
    "        \n",
    "        \n",
    "            ax = plt.gca(title='Rozkład poissona- krzywa dopasowana')\n",
    "            x = np.linspace(0, 60, 1000)\n",
    "            \n",
    "            ax.plot(x, poisson(x, parameters),'r',label=f\"$\\lambda = {parameters}$\")\n",
    "            ax.scatter(lps[:, 0], poisson(lps[:, 0], parameters),label='punkty wyznaczone empirycznie')\n",
    "            \n",
    "            ax.legend()\n",
    "            plt.show()\n",
    "        except RuntimeError:  \n",
    "            print('Rozklad nie jest rozkaldem Poissona')\n",
    "            \n",
    "            \n",
    "            \n"
   ]
  },
  {
   "cell_type": "code",
   "execution_count": 6,
   "metadata": {
    "scrolled": false
   },
   "outputs": [
    {
     "name": "stdout",
     "output_type": "stream",
     "text": [
      "Wyniki dla godziny 13\n",
      "\n",
      "Tabela czasowa:\n"
     ]
    },
    {
     "data": {
      "text/html": [
       "<div>\n",
       "<style scoped>\n",
       "    .dataframe tbody tr th:only-of-type {\n",
       "        vertical-align: middle;\n",
       "    }\n",
       "\n",
       "    .dataframe tbody tr th {\n",
       "        vertical-align: top;\n",
       "    }\n",
       "\n",
       "    .dataframe thead th {\n",
       "        text-align: right;\n",
       "    }\n",
       "</style>\n",
       "<table border=\"1\" class=\"dataframe\">\n",
       "  <thead>\n",
       "    <tr style=\"text-align: right;\">\n",
       "      <th></th>\n",
       "      <th>Hours</th>\n",
       "      <th>Minutes</th>\n",
       "      <th>Seconds</th>\n",
       "    </tr>\n",
       "  </thead>\n",
       "  <tbody>\n",
       "    <tr>\n",
       "      <th>15</th>\n",
       "      <td>13</td>\n",
       "      <td>38</td>\n",
       "      <td>3</td>\n",
       "    </tr>\n",
       "    <tr>\n",
       "      <th>16</th>\n",
       "      <td>13</td>\n",
       "      <td>38</td>\n",
       "      <td>4</td>\n",
       "    </tr>\n",
       "    <tr>\n",
       "      <th>17</th>\n",
       "      <td>13</td>\n",
       "      <td>38</td>\n",
       "      <td>7</td>\n",
       "    </tr>\n",
       "    <tr>\n",
       "      <th>18</th>\n",
       "      <td>13</td>\n",
       "      <td>38</td>\n",
       "      <td>19</td>\n",
       "    </tr>\n",
       "    <tr>\n",
       "      <th>19</th>\n",
       "      <td>13</td>\n",
       "      <td>38</td>\n",
       "      <td>20</td>\n",
       "    </tr>\n",
       "    <tr>\n",
       "      <th>20</th>\n",
       "      <td>13</td>\n",
       "      <td>38</td>\n",
       "      <td>20</td>\n",
       "    </tr>\n",
       "    <tr>\n",
       "      <th>21</th>\n",
       "      <td>13</td>\n",
       "      <td>38</td>\n",
       "      <td>20</td>\n",
       "    </tr>\n",
       "    <tr>\n",
       "      <th>22</th>\n",
       "      <td>13</td>\n",
       "      <td>38</td>\n",
       "      <td>20</td>\n",
       "    </tr>\n",
       "    <tr>\n",
       "      <th>23</th>\n",
       "      <td>13</td>\n",
       "      <td>38</td>\n",
       "      <td>20</td>\n",
       "    </tr>\n",
       "    <tr>\n",
       "      <th>24</th>\n",
       "      <td>13</td>\n",
       "      <td>38</td>\n",
       "      <td>20</td>\n",
       "    </tr>\n",
       "    <tr>\n",
       "      <th>25</th>\n",
       "      <td>13</td>\n",
       "      <td>38</td>\n",
       "      <td>20</td>\n",
       "    </tr>\n",
       "    <tr>\n",
       "      <th>26</th>\n",
       "      <td>13</td>\n",
       "      <td>38</td>\n",
       "      <td>21</td>\n",
       "    </tr>\n",
       "    <tr>\n",
       "      <th>27</th>\n",
       "      <td>13</td>\n",
       "      <td>38</td>\n",
       "      <td>21</td>\n",
       "    </tr>\n",
       "    <tr>\n",
       "      <th>28</th>\n",
       "      <td>13</td>\n",
       "      <td>38</td>\n",
       "      <td>23</td>\n",
       "    </tr>\n",
       "  </tbody>\n",
       "</table>\n",
       "</div>"
      ],
      "text/plain": [
       "    Hours  Minutes  Seconds\n",
       "15     13       38        3\n",
       "16     13       38        4\n",
       "17     13       38        7\n",
       "18     13       38       19\n",
       "19     13       38       20\n",
       "20     13       38       20\n",
       "21     13       38       20\n",
       "22     13       38       20\n",
       "23     13       38       20\n",
       "24     13       38       20\n",
       "25     13       38       20\n",
       "26     13       38       21\n",
       "27     13       38       21\n",
       "28     13       38       23"
      ]
     },
     "metadata": {},
     "output_type": "display_data"
    },
    {
     "data": {
      "image/png": "[encoded data removed]",
      "text/plain": [
       "<Figure size 432x288 with 1 Axes>"
      ]
     },
     "metadata": {
      "needs_background": "light"
     },
     "output_type": "display_data"
    },
    {
     "data": {
      "image/png": "[encoded data removed]",
      "text/plain": [
       "<Figure size 432x288 with 1 Axes>"
      ]
     },
     "metadata": {
      "needs_background": "light"
     },
     "output_type": "display_data"
    },
    {
     "data": {
      "image/png": "[encoded data removed]",
      "text/plain": [
       "<Figure size 432x288 with 1 Axes>"
      ]
     },
     "metadata": {
      "needs_background": "light"
     },
     "output_type": "display_data"
    },
    {
     "data": {
      "image/png": "[encoded data removed]",
      "text/plain": [
       "<Figure size 432x288 with 1 Axes>"
      ]
     },
     "metadata": {
      "needs_background": "light"
     },
     "output_type": "display_data"
    },
    {
     "name": "stdout",
     "output_type": "stream",
     "text": [
      "Wyniki dla godziny 14\n",
      "\n",
      "Tabela czasowa:\n"
     ]
    },
    {
     "data": {
      "text/html": [
       "<div>\n",
       "<style scoped>\n",
       "    .dataframe tbody tr th:only-of-type {\n",
       "        vertical-align: middle;\n",
       "    }\n",
       "\n",
       "    .dataframe tbody tr th {\n",
       "        vertical-align: top;\n",
       "    }\n",
       "\n",
       "    .dataframe thead th {\n",
       "        text-align: right;\n",
       "    }\n",
       "</style>\n",
       "<table border=\"1\" class=\"dataframe\">\n",
       "  <thead>\n",
       "    <tr style=\"text-align: right;\">\n",
       "      <th></th>\n",
       "      <th>Hours</th>\n",
       "      <th>Minutes</th>\n",
       "      <th>Seconds</th>\n",
       "    </tr>\n",
       "  </thead>\n",
       "  <tbody>\n",
       "    <tr>\n",
       "      <th>63</th>\n",
       "      <td>14</td>\n",
       "      <td>33</td>\n",
       "      <td>21</td>\n",
       "    </tr>\n",
       "    <tr>\n",
       "      <th>64</th>\n",
       "      <td>14</td>\n",
       "      <td>33</td>\n",
       "      <td>22</td>\n",
       "    </tr>\n",
       "    <tr>\n",
       "      <th>65</th>\n",
       "      <td>14</td>\n",
       "      <td>33</td>\n",
       "      <td>22</td>\n",
       "    </tr>\n",
       "    <tr>\n",
       "      <th>66</th>\n",
       "      <td>14</td>\n",
       "      <td>33</td>\n",
       "      <td>22</td>\n",
       "    </tr>\n",
       "    <tr>\n",
       "      <th>67</th>\n",
       "      <td>14</td>\n",
       "      <td>33</td>\n",
       "      <td>22</td>\n",
       "    </tr>\n",
       "    <tr>\n",
       "      <th>68</th>\n",
       "      <td>14</td>\n",
       "      <td>33</td>\n",
       "      <td>22</td>\n",
       "    </tr>\n",
       "    <tr>\n",
       "      <th>69</th>\n",
       "      <td>14</td>\n",
       "      <td>33</td>\n",
       "      <td>23</td>\n",
       "    </tr>\n",
       "    <tr>\n",
       "      <th>70</th>\n",
       "      <td>14</td>\n",
       "      <td>33</td>\n",
       "      <td>23</td>\n",
       "    </tr>\n",
       "    <tr>\n",
       "      <th>71</th>\n",
       "      <td>14</td>\n",
       "      <td>33</td>\n",
       "      <td>23</td>\n",
       "    </tr>\n",
       "    <tr>\n",
       "      <th>72</th>\n",
       "      <td>14</td>\n",
       "      <td>33</td>\n",
       "      <td>23</td>\n",
       "    </tr>\n",
       "    <tr>\n",
       "      <th>73</th>\n",
       "      <td>14</td>\n",
       "      <td>33</td>\n",
       "      <td>26</td>\n",
       "    </tr>\n",
       "  </tbody>\n",
       "</table>\n",
       "</div>"
      ],
      "text/plain": [
       "    Hours  Minutes  Seconds\n",
       "63     14       33       21\n",
       "64     14       33       22\n",
       "65     14       33       22\n",
       "66     14       33       22\n",
       "67     14       33       22\n",
       "68     14       33       22\n",
       "69     14       33       23\n",
       "70     14       33       23\n",
       "71     14       33       23\n",
       "72     14       33       23\n",
       "73     14       33       26"
      ]
     },
     "metadata": {},
     "output_type": "display_data"
    },
    {
     "data": {
      "image/png": "[encoded data removed]",
      "text/plain": [
       "<Figure size 432x288 with 1 Axes>"
      ]
     },
     "metadata": {
      "needs_background": "light"
     },
     "output_type": "display_data"
    },
    {
     "data": {
      "image/png": "[encoded data removed]",
      "text/plain": [
       "<Figure size 432x288 with 1 Axes>"
      ]
     },
     "metadata": {
      "needs_background": "light"
     },
     "output_type": "display_data"
    },
    {
     "data": {
      "image/png": "[encoded data removed]",
      "text/plain": [
       "<Figure size 432x288 with 1 Axes>"
      ]
     },
     "metadata": {
      "needs_background": "light"
     },
     "output_type": "display_data"
    },
    {
     "data": {
      "image/png": "[encoded data removed]",
      "text/plain": [
       "<Figure size 432x288 with 1 Axes>"
      ]
     },
     "metadata": {
      "needs_background": "light"
     },
     "output_type": "display_data"
    }
   ],
   "source": [
    "data=time_no_empty(pd.read_csv('weblog.csv').head(100))\n",
    "hours=set(data['Hours'])\n",
    "for hour in hours:\n",
    "    minutes=set(data.loc[data['Hours']==hour]['Minutes'])\n",
    "    for minute in minutes:\n",
    "        \n",
    "        selected_minute_data,nr_events=select_time_data(data,hour,minute)\n",
    "        \n",
    "        logs_per_second=[]\n",
    "        for i in range (60):\n",
    "            in_minute=selected_minute_data.apply(lambda x: x['Minutes']==i,axis=1)\n",
    "            n_logs=len(in_minute[in_minute==True].index)\n",
    "            logs_per_second.append([i,n_logs])\n",
    "            \n",
    "        print(f\"Wyniki dla godziny {hour}\")\n",
    "        print(\"\")\n",
    "        print(\"Tabela czasowa:\")\n",
    "        \n",
    "        display(selected_minute_data)\n",
    "        ax=plt.figure()\n",
    "        plt.scatter(np.array(logs_per_second)[:,0],np.array(logs_per_second)[:,1])\n",
    "        plt.plot(np.array(logs_per_second)[:,0],np.array(logs_per_second)[:,1])\n",
    "        plt.title(\"Ilość zgłoszeń na minutę w ciągu godziny\")\n",
    "        plt.show()\n",
    "               #%%\n",
    "        \n",
    "        lps=np.array(logs_per_second)\n",
    "        prob_lps=[i/len(lps) for i in lps[:,1]]\n",
    "        \n",
    "        fig=plt.figure()\n",
    "        plt.scatter(lps[:,0],prob_lps)\n",
    "        plt.title(\"Prawdopodobieństwo zgłoszenia w danej minucie\")\n",
    "        plt.show()\n",
    "        \n",
    "        \n",
    "        #%%\n",
    "        \n",
    "        # dystrybuanta\n",
    "        distribution=[]\n",
    "        dist2=[0]\n",
    "        distribution.append(logs_per_second[0])\n",
    "        for i in range(1,len(logs_per_second)):\n",
    "        \n",
    "            distribution.append([i,distribution[i-1][1]+logs_per_second[i][1]/nr_events])\n",
    "            dist2.append(distribution[i-1][1])\n",
    "        ax2=plt.figure()\n",
    "        dist=np.array(distribution)\n",
    "        #plt.plot(dist[:,0],dist[:,1])\n",
    "        plt.scatter(dist[:,0],dist[:,1])\n",
    "        d=np.array(dist2)\n",
    "        \n",
    "        plt.plot(dist[:,0],d,'bo',mfc='none')\n",
    "        plt.title(\"Dystrybuanta empiryczna\")\n",
    "        plt.show()\n",
    "        \n",
    "        \n",
    "        #%%\n",
    "        \n",
    "        def poisson(k, lamb):\n",
    "            return (lamb ** k / factorial(k)) * np.exp(-lamb)\n",
    "        \n",
    "        \n",
    "        # fit with curve_fit\n",
    "        \n",
    "        try:       \n",
    "        \n",
    "            parameters, cov_matrix = curve_fit(poisson, lps[:, 0], prob_lps)\n",
    "        \n",
    "        \n",
    "            ax = plt.gca(title='Rozkład poissona- krzywa dopasowana')\n",
    "            x = np.linspace(0, 60, 1000)\n",
    "            \n",
    "            ax.plot(x, poisson(x, parameters),'r',label=f\"$\\lambda = {parameters}$\")\n",
    "            ax.scatter(lps[:, 0], poisson(lps[:, 0], parameters),label='punkty wyznaczone empirycznie')\n",
    "            \n",
    "            ax.legend()\n",
    "            plt.show()\n",
    "        except RuntimeError:  \n",
    "            print('Rozklad nie jest rozkaldem Poissona')\n",
    "            \n",
    "            \n",
    "\n"
   ]
  },
  {
   "cell_type": "markdown",
   "metadata": {},
   "source": [
    "**Wnioski:**\n"
   ]
  },
  {
   "cell_type": "markdown",
   "metadata": {
    "pycharm": {
     "is_executing": false
    }
   },
   "source": [
    "Celem naszej pracy było zbadanie liczby zgłoszeń do dowolnego serwera w ciągu minuty, narysować dystrybuantę empiryczną oraz sprawdzić czy jest to proces Poissona. \n",
    "\n",
    "Po opracowaniu danych, stwierdziliśmy, że jest to proces Poissona, ponieważ: $ N_{0} $ w czasie startowym ma wartość 0, przyrosty są niezależne oraz różnice między stanami mają  rozkład Poissona. \n",
    "\n",
    "Realizacja projektu umożliwiła nam na rozszerzenie naszych umiejętności w dziedzinie statystyki oraz poznanie nowych technik korzystania z wcześniej wymienionego języka.\n",
    "\n",
    "Projekt został zrealizowany bez większych kłopotów, a wszystkie napotkane mniejsze problemy udało nam się rozwiązać poprzez dostępne materiały oraz wspólną komunikację.\n",
    "\n"
   ]
  },
  {
   "cell_type": "code",
   "execution_count": 8,
   "metadata": {},
   "outputs": [
    {
     "ename": "KeyError",
     "evalue": "'Hours'",
     "output_type": "error",
     "traceback": [
      "\u001b[0;31m---------------------------------------------------------------------------\u001b[0m",
      "\u001b[0;31mKeyError\u001b[0m                                  Traceback (most recent call last)",
      "\u001b[0;32m~/anaconda3/lib/python3.7/site-packages/pandas/core/indexes/base.py\u001b[0m in \u001b[0;36mget_loc\u001b[0;34m(self, key, method, tolerance)\u001b[0m\n\u001b[1;32m   2645\u001b[0m             \u001b[0;32mtry\u001b[0m\u001b[0;34m:\u001b[0m\u001b[0;34m\u001b[0m\u001b[0;34m\u001b[0m\u001b[0m\n\u001b[0;32m-> 2646\u001b[0;31m                 \u001b[0;32mreturn\u001b[0m \u001b[0mself\u001b[0m\u001b[0;34m.\u001b[0m\u001b[0m_engine\u001b[0m\u001b[0;34m.\u001b[0m\u001b[0mget_loc\u001b[0m\u001b[0;34m(\u001b[0m\u001b[0mkey\u001b[0m\u001b[0;34m)\u001b[0m\u001b[0;34m\u001b[0m\u001b[0;34m\u001b[0m\u001b[0m\n\u001b[0m\u001b[1;32m   2647\u001b[0m             \u001b[0;32mexcept\u001b[0m \u001b[0mKeyError\u001b[0m\u001b[0;34m:\u001b[0m\u001b[0;34m\u001b[0m\u001b[0;34m\u001b[0m\u001b[0m\n",
      "\u001b[0;32mpandas/_libs/index.pyx\u001b[0m in \u001b[0;36mpandas._libs.index.IndexEngine.get_loc\u001b[0;34m()\u001b[0m\n",
      "\u001b[0;32mpandas/_libs/index.pyx\u001b[0m in \u001b[0;36mpandas._libs.index.IndexEngine.get_loc\u001b[0;34m()\u001b[0m\n",
      "\u001b[0;32mpandas/_libs/hashtable_class_helper.pxi\u001b[0m in \u001b[0;36mpandas._libs.hashtable.PyObjectHashTable.get_item\u001b[0;34m()\u001b[0m\n",
      "\u001b[0;32mpandas/_libs/hashtable_class_helper.pxi\u001b[0m in \u001b[0;36mpandas._libs.hashtable.PyObjectHashTable.get_item\u001b[0;34m()\u001b[0m\n",
      "\u001b[0;31mKeyError\u001b[0m: 'Hours'",
      "\nDuring handling of the above exception, another exception occurred:\n",
      "\u001b[0;31mKeyError\u001b[0m                                  Traceback (most recent call last)",
      "\u001b[0;32m<ipython-input-8-24a0a4b20622>\u001b[0m in \u001b[0;36m<module>\u001b[0;34m\u001b[0m\n\u001b[1;32m     20\u001b[0m     \u001b[0;32mreturn\u001b[0m \u001b[0mdata\u001b[0m\u001b[0;34m\u001b[0m\u001b[0;34m\u001b[0m\u001b[0m\n\u001b[1;32m     21\u001b[0m \u001b[0mdata\u001b[0m\u001b[0;34m=\u001b[0m\u001b[0mpd\u001b[0m\u001b[0;34m.\u001b[0m\u001b[0mread_csv\u001b[0m\u001b[0;34m(\u001b[0m\u001b[0;34m'weblog.csv'\u001b[0m\u001b[0;34m)\u001b[0m\u001b[0;34m.\u001b[0m\u001b[0mhead\u001b[0m\u001b[0;34m(\u001b[0m\u001b[0;36m100\u001b[0m\u001b[0;34m)\u001b[0m\u001b[0;34m\u001b[0m\u001b[0;34m\u001b[0m\u001b[0m\n\u001b[0;32m---> 22\u001b[0;31m \u001b[0mhours\u001b[0m\u001b[0;34m=\u001b[0m\u001b[0mset\u001b[0m\u001b[0;34m(\u001b[0m\u001b[0mdata\u001b[0m\u001b[0;34m[\u001b[0m\u001b[0;34m'Hours'\u001b[0m\u001b[0;34m]\u001b[0m\u001b[0;34m)\u001b[0m\u001b[0;34m\u001b[0m\u001b[0;34m\u001b[0m\u001b[0m\n\u001b[0m\u001b[1;32m     23\u001b[0m \u001b[0;32mfor\u001b[0m \u001b[0mhour\u001b[0m \u001b[0;32min\u001b[0m \u001b[0mhours\u001b[0m\u001b[0;34m:\u001b[0m\u001b[0;34m\u001b[0m\u001b[0;34m\u001b[0m\u001b[0m\n\u001b[1;32m     24\u001b[0m     \u001b[0mminutes\u001b[0m\u001b[0;34m=\u001b[0m\u001b[0mset\u001b[0m\u001b[0;34m(\u001b[0m\u001b[0mdata\u001b[0m\u001b[0;34m.\u001b[0m\u001b[0mloc\u001b[0m\u001b[0;34m[\u001b[0m\u001b[0mdata\u001b[0m\u001b[0;34m[\u001b[0m\u001b[0;34m'Hours'\u001b[0m\u001b[0;34m]\u001b[0m\u001b[0;34m==\u001b[0m\u001b[0mhour\u001b[0m\u001b[0;34m]\u001b[0m\u001b[0;34m[\u001b[0m\u001b[0;34m'Minutes'\u001b[0m\u001b[0;34m]\u001b[0m\u001b[0;34m)\u001b[0m\u001b[0;34m\u001b[0m\u001b[0;34m\u001b[0m\u001b[0m\n",
      "\u001b[0;32m~/anaconda3/lib/python3.7/site-packages/pandas/core/frame.py\u001b[0m in \u001b[0;36m__getitem__\u001b[0;34m(self, key)\u001b[0m\n\u001b[1;32m   2798\u001b[0m             \u001b[0;32mif\u001b[0m \u001b[0mself\u001b[0m\u001b[0;34m.\u001b[0m\u001b[0mcolumns\u001b[0m\u001b[0;34m.\u001b[0m\u001b[0mnlevels\u001b[0m \u001b[0;34m>\u001b[0m \u001b[0;36m1\u001b[0m\u001b[0;34m:\u001b[0m\u001b[0;34m\u001b[0m\u001b[0;34m\u001b[0m\u001b[0m\n\u001b[1;32m   2799\u001b[0m                 \u001b[0;32mreturn\u001b[0m \u001b[0mself\u001b[0m\u001b[0;34m.\u001b[0m\u001b[0m_getitem_multilevel\u001b[0m\u001b[0;34m(\u001b[0m\u001b[0mkey\u001b[0m\u001b[0;34m)\u001b[0m\u001b[0;34m\u001b[0m\u001b[0;34m\u001b[0m\u001b[0m\n\u001b[0;32m-> 2800\u001b[0;31m             \u001b[0mindexer\u001b[0m \u001b[0;34m=\u001b[0m \u001b[0mself\u001b[0m\u001b[0;34m.\u001b[0m\u001b[0mcolumns\u001b[0m\u001b[0;34m.\u001b[0m\u001b[0mget_loc\u001b[0m\u001b[0;34m(\u001b[0m\u001b[0mkey\u001b[0m\u001b[0;34m)\u001b[0m\u001b[0;34m\u001b[0m\u001b[0;34m\u001b[0m\u001b[0m\n\u001b[0m\u001b[1;32m   2801\u001b[0m             \u001b[0;32mif\u001b[0m \u001b[0mis_integer\u001b[0m\u001b[0;34m(\u001b[0m\u001b[0mindexer\u001b[0m\u001b[0;34m)\u001b[0m\u001b[0;34m:\u001b[0m\u001b[0;34m\u001b[0m\u001b[0;34m\u001b[0m\u001b[0m\n\u001b[1;32m   2802\u001b[0m                 \u001b[0mindexer\u001b[0m \u001b[0;34m=\u001b[0m \u001b[0;34m[\u001b[0m\u001b[0mindexer\u001b[0m\u001b[0;34m]\u001b[0m\u001b[0;34m\u001b[0m\u001b[0;34m\u001b[0m\u001b[0m\n",
      "\u001b[0;32m~/anaconda3/lib/python3.7/site-packages/pandas/core/indexes/base.py\u001b[0m in \u001b[0;36mget_loc\u001b[0;34m(self, key, method, tolerance)\u001b[0m\n\u001b[1;32m   2646\u001b[0m                 \u001b[0;32mreturn\u001b[0m \u001b[0mself\u001b[0m\u001b[0;34m.\u001b[0m\u001b[0m_engine\u001b[0m\u001b[0;34m.\u001b[0m\u001b[0mget_loc\u001b[0m\u001b[0;34m(\u001b[0m\u001b[0mkey\u001b[0m\u001b[0;34m)\u001b[0m\u001b[0;34m\u001b[0m\u001b[0;34m\u001b[0m\u001b[0m\n\u001b[1;32m   2647\u001b[0m             \u001b[0;32mexcept\u001b[0m \u001b[0mKeyError\u001b[0m\u001b[0;34m:\u001b[0m\u001b[0;34m\u001b[0m\u001b[0;34m\u001b[0m\u001b[0m\n\u001b[0;32m-> 2648\u001b[0;31m                 \u001b[0;32mreturn\u001b[0m \u001b[0mself\u001b[0m\u001b[0;34m.\u001b[0m\u001b[0m_engine\u001b[0m\u001b[0;34m.\u001b[0m\u001b[0mget_loc\u001b[0m\u001b[0;34m(\u001b[0m\u001b[0mself\u001b[0m\u001b[0;34m.\u001b[0m\u001b[0m_maybe_cast_indexer\u001b[0m\u001b[0;34m(\u001b[0m\u001b[0mkey\u001b[0m\u001b[0;34m)\u001b[0m\u001b[0;34m)\u001b[0m\u001b[0;34m\u001b[0m\u001b[0;34m\u001b[0m\u001b[0m\n\u001b[0m\u001b[1;32m   2649\u001b[0m         \u001b[0mindexer\u001b[0m \u001b[0;34m=\u001b[0m \u001b[0mself\u001b[0m\u001b[0;34m.\u001b[0m\u001b[0mget_indexer\u001b[0m\u001b[0;34m(\u001b[0m\u001b[0;34m[\u001b[0m\u001b[0mkey\u001b[0m\u001b[0;34m]\u001b[0m\u001b[0;34m,\u001b[0m \u001b[0mmethod\u001b[0m\u001b[0;34m=\u001b[0m\u001b[0mmethod\u001b[0m\u001b[0;34m,\u001b[0m \u001b[0mtolerance\u001b[0m\u001b[0;34m=\u001b[0m\u001b[0mtolerance\u001b[0m\u001b[0;34m)\u001b[0m\u001b[0;34m\u001b[0m\u001b[0;34m\u001b[0m\u001b[0m\n\u001b[1;32m   2650\u001b[0m         \u001b[0;32mif\u001b[0m \u001b[0mindexer\u001b[0m\u001b[0;34m.\u001b[0m\u001b[0mndim\u001b[0m \u001b[0;34m>\u001b[0m \u001b[0;36m1\u001b[0m \u001b[0;32mor\u001b[0m \u001b[0mindexer\u001b[0m\u001b[0;34m.\u001b[0m\u001b[0msize\u001b[0m \u001b[0;34m>\u001b[0m \u001b[0;36m1\u001b[0m\u001b[0;34m:\u001b[0m\u001b[0;34m\u001b[0m\u001b[0;34m\u001b[0m\u001b[0m\n",
      "\u001b[0;32mpandas/_libs/index.pyx\u001b[0m in \u001b[0;36mpandas._libs.index.IndexEngine.get_loc\u001b[0;34m()\u001b[0m\n",
      "\u001b[0;32mpandas/_libs/index.pyx\u001b[0m in \u001b[0;36mpandas._libs.index.IndexEngine.get_loc\u001b[0;34m()\u001b[0m\n",
      "\u001b[0;32mpandas/_libs/hashtable_class_helper.pxi\u001b[0m in \u001b[0;36mpandas._libs.hashtable.PyObjectHashTable.get_item\u001b[0;34m()\u001b[0m\n",
      "\u001b[0;32mpandas/_libs/hashtable_class_helper.pxi\u001b[0m in \u001b[0;36mpandas._libs.hashtable.PyObjectHashTable.get_item\u001b[0;34m()\u001b[0m\n",
      "\u001b[0;31mKeyError\u001b[0m: 'Hours'"
     ]
    }
   ],
   "source": [
    "\n",
    "def time_no_empty(df):\n",
    "    df['Minutes']=df['Time'].apply(lambda x: take_n_split(x,':',2))\n",
    "    df['Seconds']=df['Time'].apply(lambda x: take_n_split(x,':',3))\n",
    "    df['Hours']=df['Time'].apply(lambda x: take_n_split(x,':',1))\n",
    "    df[\"Enough\"]=pd.Series([False]*len(df))\n",
    "    \n",
    "    for h in range(24):\n",
    "        dfh=df.loc[df[\"Hours\"]==h]\n",
    "        for min in range(1,60):\n",
    "            nr_events_per_minute=len(dfh.loc[(df['Minutes']==min) & (dfh['Hours']==h)])\n",
    "            if nr_events_per_minute>0:\n",
    "                for i in df.loc[(df['Minutes']==min) & (df['Hours']==h)].index:\n",
    "                    df.at[i,\"Enough\"]=True\n",
    "                \n",
    "               \n",
    "    df=df.loc[df['Enough']==True]\n",
    "    \n",
    "    data=pd.DataFrame({'Hours':df['Hours'],'Minutes':df['Minutes'],'Seconds':df['Seconds']})\n",
    "    \n",
    "    return data\n",
    "\n",
    "data=pd.read_csv('weblog.csv').head(100)\n",
    "hours=set(data['Hours'])\n",
    "for hour in hours:\n",
    "    minutes=set(data.loc[data['Hours']==hour]['Minutes'])\n",
    "    logs_in_hour=[]\n",
    "    indexes=[]\n",
    "    for idx,minute in enumerate(minutes):\n",
    "\n",
    "        selected_minute_data,nr_events=select_time_data(data,hour,minute)\n",
    "\n",
    "        display(selected_minute_data)\n",
    "        for i in range (60):\n",
    "            in_minute=selected_minute_data.apply(lambda x: x['Seconds']==i,axis=1)\n",
    "            n_logs=len(in_minute[in_minute==True].index)\n",
    "            logs_in_hour.append(n_logs)\n",
    "            indexes.append(i+60*idx)\n",
    "\n",
    "\n",
    "\n",
    "\n",
    "    print(f\"Wyniki dla godziny {hour}\")\n",
    "\n",
    "    ax=plt.figure()\n",
    "    plt.scatter(y=np.array(logs_in_hour),x=indexes)\n",
    "    plt.plot(np.array(logs_in_hour))\n",
    "    plt.title(\"Ilość zgłoszeń na sekundę w ciągu minuty\")\n",
    "    plt.show()\n",
    "\n",
    "    logs=pd.DataFrame(logs_in_hour,columns=['n_logs'],index=indexes)\n",
    "    logs.hist()\n",
    "\n",
    "        #\n",
    "        # #%%\n",
    "        #\n",
    "        # lps=np.array(logs_in_hour)\n",
    "        # prob_lps=[i/len(lps) for i in lps[:,1]]\n",
    "        #\n",
    "        # fig=plt.figure()\n",
    "        # plt.scatter(lps[:,0],prob_lps)\n",
    "        # plt.title(\"Prawdopodobieństwo zgłoszenia w danej sekundzie\")\n",
    "        # plt.show()\n",
    "        #\n",
    "        #\n",
    "        # #%%\n",
    "        #\n",
    "        # # dystrybuanta\n",
    "        # distribution=[]\n",
    "        # dist2=[0]\n",
    "        # distribution.append(logs_per_second[0])\n",
    "        # for i in range(1,len(logs_per_second)):\n",
    "        #\n",
    "        #     distribution.append([i,distribution[i-1][1]+logs_per_second[i][1]/nr_events])\n",
    "        #     dist2.append(distribution[i-1][1])\n",
    "        # ax2=plt.figure()\n",
    "        # dist=np.array(distribution)\n",
    "        # #plt.plot(dist[:,0],dist[:,1])\n",
    "        # plt.scatter(dist[:,0],dist[:,1])\n",
    "        # d=np.array(dist2)\n",
    "        #\n",
    "        # plt.plot(dist[:,0],d,'bo',mfc='none')\n",
    "        # plt.title(\"Dystrybuanta empiryczna\")\n",
    "        # plt.show()\n",
    "        #\n",
    "        #\n",
    "        # #%%\n",
    "        #\n",
    "        # def poisson(k, lamb):\n",
    "        #     return (lamb ** k / factorial(k)) * np.exp(-lamb)\n",
    "        #\n",
    "        #\n",
    "        # # fit with curve_fit\n",
    "        #\n",
    "        # try:\n",
    "        #\n",
    "        #     parameters, cov_matrix = curve_fit(poisson, lps[:, 0], prob_lps)\n",
    "        #\n",
    "        #\n",
    "        #\n",
    "        #     ax = plt.gca(title='Rozkład poissona- krzywa dopasowana')\n",
    "        #     x = np.linspace(0, 60, 1000)\n",
    "        #\n",
    "        #     ax.plot(x, poisson(x, parameters),'r',label=f\"$\\lambda = {parameters}$\")\n",
    "        #     ax.scatter(lps[:, 0], poisson(lps[:, 0], parameters),label='punkty wyznaczone empirycznie')\n",
    "        #\n",
    "        #     ax.legend()\n",
    "        #     plt.show()\n",
    "        # except RuntimeError:\n",
    "        #     print('Rozklad nie jest rozkaldem Poissona')\n",
    "        #\n",
    "        #\n",
    "        #                 n_logs=len(in_minute[in_minute==True].index)\n",
    "        #     logs_per_second.append([i,n_logs])\n",
    "        #\n",
    "        # print(f\"Wyniki dla godziny {hour}\")\n",
    "        # print(\"\")\n",
    "        # print(\"Tabela czasowa:\")\n",
    "        #\n",
    "        # display(selected_minute_data)\n",
    "        # ax=plt.figure()\n",
    "        # plt.scatter(np.array(logs_per_second)[:,0],np.array(logs_per_second)[:,1])\n",
    "        # plt.plot(np.array(logs_per_second)[:,0],np.array(logs_per_second)[:,1])\n",
    "        # plt.title(\"Ilość zgłoszeń na minutę w ciągu godziny\")\n",
    "        # plt.show()\n",
    "        #        #%%\n",
    "        #\n",
    "        # lps=np.array(logs_per_second)\n",
    "        # prob_lps=[i/len(lps) for i in lps[:,1]]\n",
    "        #\n",
    "        # fig=plt.figure()\n",
    "        # plt.scatter(lps[:,0],prob_lps)\n",
    "        # plt.title(\"Prawdopodobieństwo zgłoszenia w danej minucie\")\n",
    "        # plt.show()\n",
    "        #\n",
    "        #\n",
    "        # #%%\n",
    "        #\n",
    "        # # dystrybuanta\n",
    "        # distribution=[]\n",
    "        # dist2=[0]\n",
    "        # distribution.append(logs_per_second[0])\n",
    "        # for i in range(1,len(logs_per_second)):\n",
    "        #\n",
    "        #     distribution.append([i,distribution[i-1][1]+logs_per_second[i][1]/nr_events])\n",
    "        #     dist2.append(distribution[i-1][1])\n",
    "        # ax2=plt.figure()\n",
    "        # dist=np.array(distribution)\n",
    "        # #plt.plot(dist[:,0],dist[:,1])\n",
    "        # plt.scatter(dist[:,0],dist[:,1])\n",
    "        # d=np.array(dist2)\n",
    "        #\n",
    "        # plt.plot(dist[:,0],d,'bo',mfc='none')\n",
    "        # plt.title(\"Dystrybuanta empiryczna\")\n",
    "        # plt.show()\n",
    "        #\n",
    "        #\n",
    "        # #%%\n",
    "        #\n",
    "        # def poisson(k, lamb):\n",
    "        #     return (lamb ** k / factorial(k)) * np.exp(-lamb)\n",
    "        #\n",
    "        #\n",
    "        # # fit with curve_fit\n",
    "        #\n",
    "        # try:\n",
    "        #\n",
    "        #     parameters, cov_matrix = curve_fit(poisson, lps[:, 0], prob_lps)\n",
    "        #\n",
    "        #\n",
    "        #     ax = plt.gca(title='Rozkład poissona- krzywa dopasowana')\n",
    "        #     x = np.linspace(0, 60, 1000)\n",
    "        #\n",
    "        #     ax.plot(x, poisson(x, parameters),'r',label=f\"$\\lambda = {parameters}$\")\n",
    "        #     ax.scatter(lps[:, 0], poisson(lps[:, 0], parameters),label='punkty wyznaczone empirycznie')\n",
    "        #\n",
    "        #     ax.legend()\n",
    "        #     plt.show()\n",
    "        # except RuntimeError:\n",
    "        #     print('Rozklad nie jest rozkaldem Poissona')\n",
    "        #\n",
    "        #\n",
    "\n",
    "\n"
   ]
  },
  {
   "cell_type": "code",
   "execution_count": null,
   "metadata": {
    "pycharm": {
     "name": "#%%\n"
    }
   },
   "outputs": [],
   "source": [
    "\n"
   ]
  }
 ],
 "metadata": {
  "kernelspec": {
   "display_name": "Python 3",
   "language": "python",
   "name": "python3"
  },
  "language_info": {
   "codemirror_mode": {
    "name": "ipython",
    "version": 3
   },
   "file_extension": ".py",
   "mimetype": "text/x-python",
   "name": "python",
   "nbconvert_exporter": "python",
   "pygments_lexer": "ipython3",
   "version": "3.7.4"
  }
 },
 "nbformat": 4,
 "nbformat_minor": 2
}
